{
 "cells": [
  {
   "cell_type": "code",
   "execution_count": 1,
   "id": "523b5642",
   "metadata": {},
   "outputs": [],
   "source": [
    "#利用封装的module selection, accuracy（自己）\n",
    "# sklearn"
   ]
  },
  {
   "cell_type": "code",
   "execution_count": 2,
   "id": "f25693f9",
   "metadata": {},
   "outputs": [],
   "source": [
    "#封装测试过程"
   ]
  },
  {
   "cell_type": "code",
   "execution_count": 3,
   "id": "f5389a00",
   "metadata": {},
   "outputs": [],
   "source": [
    "from sklearn import datasets\n",
    "from myML.n_neighbor import KNeighborClassifier\n",
    "import numpy as np\n",
    "from myML.model_selection import train_test_split\n",
    "from myML.metrics import accuracy"
   ]
  },
  {
   "cell_type": "code",
   "execution_count": 4,
   "id": "65234a70",
   "metadata": {},
   "outputs": [],
   "source": [
    "# 导入数据\n",
    "iris = datasets.load_iris()\n",
    "X = iris.data\n",
    "y = iris.target"
   ]
  },
  {
   "cell_type": "code",
   "execution_count": 5,
   "id": "e415e2a4",
   "metadata": {},
   "outputs": [
    {
     "data": {
      "text/plain": [
       "((120, 4), (30, 4), (120,), (30,))"
      ]
     },
     "execution_count": 5,
     "metadata": {},
     "output_type": "execute_result"
    }
   ],
   "source": [
    "#分数据集\n",
    "X_train, X_test, y_train, y_test = train_test_split(X, y, random_state=666)\n",
    "(X_train.shape, X_test.shape, y_train.shape, y_test.shape)"
   ]
  },
  {
   "cell_type": "code",
   "execution_count": 6,
   "id": "e7584c5f",
   "metadata": {},
   "outputs": [],
   "source": [
    "#构建模型，训练\n",
    "knn_clf = KNeighborClassifier()\n",
    "knn_clf.fit(X_train, y_train)\n",
    "#测试\n",
    "y_pred = knn_clf.predict(X_test)"
   ]
  },
  {
   "cell_type": "code",
   "execution_count": 7,
   "id": "d532ace7",
   "metadata": {},
   "outputs": [
    {
     "data": {
      "text/plain": [
       "0.9666666666666667"
      ]
     },
     "execution_count": 7,
     "metadata": {},
     "output_type": "execute_result"
    }
   ],
   "source": [
    "accuracy(y_pred, y_test)"
   ]
  },
  {
   "cell_type": "code",
   "execution_count": 8,
   "id": "dbd95b20",
   "metadata": {},
   "outputs": [],
   "source": [
    "# END"
   ]
  },
  {
   "cell_type": "code",
   "execution_count": 9,
   "id": "5afc5ef8",
   "metadata": {},
   "outputs": [
    {
     "data": {
      "text/plain": [
       "0.9666666666666667"
      ]
     },
     "execution_count": 9,
     "metadata": {},
     "output_type": "execute_result"
    }
   ],
   "source": [
    "# score方法\n",
    "score = knn_clf.score(X_test, y_test)\n",
    "score"
   ]
  },
  {
   "cell_type": "code",
   "execution_count": 10,
   "id": "f8a5454d",
   "metadata": {},
   "outputs": [],
   "source": [
    "# bottom up/top down"
   ]
  },
  {
   "cell_type": "code",
   "execution_count": null,
   "id": "24bee445",
   "metadata": {},
   "outputs": [],
   "source": []
  }
 ],
 "metadata": {
  "kernelspec": {
   "display_name": "Python 3 (ipykernel)",
   "language": "python",
   "name": "python3"
  },
  "language_info": {
   "codemirror_mode": {
    "name": "ipython",
    "version": 3
   },
   "file_extension": ".py",
   "mimetype": "text/x-python",
   "name": "python",
   "nbconvert_exporter": "python",
   "pygments_lexer": "ipython3",
   "version": "3.9.12"
  }
 },
 "nbformat": 4,
 "nbformat_minor": 5
}
