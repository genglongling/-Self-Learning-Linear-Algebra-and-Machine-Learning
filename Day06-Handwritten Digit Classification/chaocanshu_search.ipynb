{
 "cells": [
  {
   "cell_type": "code",
   "execution_count": 1,
   "metadata": {},
   "outputs": [],
   "source": [
    "from sklearn import datasets\n",
    "from sklearn.neighbors import KNeighborsClassifier\n",
    "import numpy as np\n",
    "from sklearn.model_selection import train_test_split"
   ]
  },
  {
   "cell_type": "code",
   "execution_count": 2,
   "metadata": {},
   "outputs": [
    {
     "data": {
      "text/plain": [
       "((1347, 64), (450, 64), (1347,), (450,))"
      ]
     },
     "execution_count": 2,
     "metadata": {},
     "output_type": "execute_result"
    }
   ],
   "source": [
    "#加载数据集\n",
    "digits = datasets.load_digits()\n",
    "X=digits.data\n",
    "y=digits.target\n",
    "#划分数据集\n",
    "X_train, X_test, y_train, y_test = train_test_split(X, y, random_state=666)\n",
    "(X_train.shape, X_test.shape, y_train.shape, y_test.shape)"
   ]
  },
  {
   "cell_type": "code",
   "execution_count": 3,
   "metadata": {},
   "outputs": [
    {
     "name": "stdout",
     "output_type": "stream",
     "text": [
      "0.98\n",
      "0.9844444444444445\n",
      "0.9866666666666667\n",
      "0.9844444444444445\n",
      "0.9866666666666667\n",
      "0.9866666666666667\n",
      "0.9822222222222222\n",
      "0.9822222222222222\n",
      "0.98\n",
      "best score is 0.9866666666666667 at k=3\n"
     ]
    }
   ],
   "source": [
    "# 试验k\n",
    "best_score=-1\n",
    "best_k=-1\n",
    "for k in range(1,10):\n",
    "    #构建模型，训练\n",
    "    knn_clf = KNeighborsClassifier(n_neighbors=k)\n",
    "    knn_clf.fit(X_train, y_train)\n",
    "    #测试\n",
    "    score = knn_clf.score(X_test, y_test)\n",
    "    if score>best_score: #stable\n",
    "        best_k=k\n",
    "        best_score=score\n",
    "    print(score)\n",
    "print(\"best score is \"+str(best_score)+\" at k=\"+str(best_k))"
   ]
  },
  {
   "cell_type": "code",
   "execution_count": 6,
   "metadata": {},
   "outputs": [
    {
     "name": "stdout",
     "output_type": "stream",
     "text": [
      "0.98\n",
      "0.98\n",
      "0.9844444444444445\n",
      "0.9822222222222222\n",
      "0.9866666666666667\n",
      "0.9866666666666667\n",
      "0.9844444444444445\n",
      "0.9822222222222222\n",
      "0.9866666666666667\n",
      "0.9866666666666667\n",
      "0.9866666666666667\n",
      "0.9844444444444445\n",
      "0.9822222222222222\n",
      "0.9822222222222222\n",
      "0.9822222222222222\n",
      "0.9844444444444445\n",
      "0.98\n",
      "0.9822222222222222\n",
      "best score is 0.9866666666666667 at k=3 with best method distance\n"
     ]
    }
   ],
   "source": [
    "# 超参数2：距离的权重\n",
    "# 1.weights - uniform\n",
    "# 2.K\n",
    "# 双层循环\n",
    "best_score=-1\n",
    "best_k=-1\n",
    "best_method='uniform'\n",
    "for k in range(1,10):\n",
    "    #构建模型，训练\n",
    "    knn_clf1 = KNeighborsClassifier(n_neighbors=k, weights='uniform')\n",
    "    knn_clf1.fit(X_train, y_train)\n",
    "    #测试\n",
    "    score1 = knn_clf1.score(X_test, y_test)\n",
    "    \n",
    "    #构建模型，训练\n",
    "    knn_clf2 = KNeighborsClassifier(n_neighbors=k, weights='distance')\n",
    "    knn_clf2.fit(X_train, y_train)\n",
    "    #测试\n",
    "    score2 = knn_clf2.score(X_test, y_test)\n",
    "    if score2>score1: #默认uniform\n",
    "        best_method='distance'\n",
    "        score=score2\n",
    "    else:\n",
    "        best_method='uniform'\n",
    "        score=score1\n",
    "    \n",
    "    if score>best_score: #stable\n",
    "        best_k=k\n",
    "        best_score=score\n",
    "    print(score1)\n",
    "    print(score2)\n",
    "print(\"best score is \"+str(best_score)+\" at k=\"+str(best_k)+\" with best method \"+best_method)"
   ]
  },
  {
   "cell_type": "code",
   "execution_count": 9,
   "metadata": {},
   "outputs": [
    {
     "name": "stdout",
     "output_type": "stream",
     "text": [
      "0.98\n",
      "0.9822222222222222\n",
      "0.9866666666666667\n",
      "0.9822222222222222\n",
      "0.9866666666666667\n",
      "0.9844444444444445\n",
      "0.9822222222222222\n",
      "0.9844444444444445\n",
      "0.9822222222222222\n",
      "0.98\n",
      "0.9844444444444445\n",
      "0.9866666666666667\n",
      "0.9844444444444445\n",
      "0.9866666666666667\n",
      "0.9866666666666667\n",
      "0.9822222222222222\n",
      "0.9822222222222222\n",
      "0.98\n",
      "best score is 0.9866666666666667 at k=3 with best method distance\n"
     ]
    }
   ],
   "source": [
    "# 超参数2：距离的权重\n",
    "# 1.weights - uniform\n",
    "# 2.K\n",
    "# 双层循环\n",
    "best_score=-1\n",
    "best_k=-1\n",
    "best_method='uniform'\n",
    "for method in {'uniform','distance'}:\n",
    "    for k in range(1,10):\n",
    "        #构建模型，训练\n",
    "        knn_clf = KNeighborsClassifier(n_neighbors=k, weights=method)\n",
    "        knn_clf.fit(X_train, y_train)\n",
    "        #测试\n",
    "        score = knn_clf.score(X_test, y_test)\n",
    "        if score>best_score: #stable\n",
    "            best_k=k\n",
    "            best_score=score\n",
    "            best_method=method\n",
    "        print(score)\n",
    "\n",
    "print(\"best score is \"+str(best_score)+\" at k=\"+str(best_k)+\" with best method \"+best_method)"
   ]
  },
  {
   "cell_type": "code",
   "execution_count": 10,
   "metadata": {},
   "outputs": [
    {
     "name": "stdout",
     "output_type": "stream",
     "text": [
      "best score is 0.9866666666666667 at k=3 with best p 2\n"
     ]
    }
   ],
   "source": [
    "# 超参数\n",
    "# 考虑k，distance\n",
    "# 3.距离：欧式距离，曼哈顿距离，米可夫斯基距离\n",
    "best_score=-1\n",
    "best_k=-1\n",
    "best_p=-1\n",
    "for p in range(1,5):\n",
    "    for k in range(1,10):\n",
    "        #构建模型，训练\n",
    "        knn_clf = KNeighborsClassifier(n_neighbors=k, weights='distance',p=p)\n",
    "        knn_clf.fit(X_train, y_train)\n",
    "        #测试\n",
    "        score = knn_clf.score(X_test, y_test)\n",
    "        if score>best_score: #stable\n",
    "            best_k=k\n",
    "            best_score=score\n",
    "            best_p=p\n",
    "\n",
    "print(\"best score is \"+str(best_score)+\" at k=\"+str(best_k)+\" with best p=\"+str(best_p))"
   ]
  },
  {
   "cell_type": "code",
   "execution_count": null,
   "metadata": {},
   "outputs": [],
   "source": [
    "# 数据归一化,线性回归,梯度下降,多项式回归"
   ]
  }
 ],
 "metadata": {
  "kernelspec": {
   "display_name": "Python 3",
   "language": "python",
   "name": "python3"
  },
  "language_info": {
   "codemirror_mode": {
    "name": "ipython",
    "version": 3
   },
   "file_extension": ".py",
   "mimetype": "text/x-python",
   "name": "python",
   "nbconvert_exporter": "python",
   "pygments_lexer": "ipython3",
   "version": "3.8.5"
  }
 },
 "nbformat": 4,
 "nbformat_minor": 5
}
