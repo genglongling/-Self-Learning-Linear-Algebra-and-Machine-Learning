{
 "cells": [
  {
   "cell_type": "code",
   "execution_count": 1,
   "id": "d4325c09",
   "metadata": {},
   "outputs": [],
   "source": [
    "import numpy as np\n",
    "import matplotlib.pyplot as plt\n",
    "# 特征\n",
    "raw_data_x= [[3.393533211,2.331273381],\n",
    "             [2.110073483,1.781539638],\n",
    "             [1.343808831,3.368360954],\n",
    "             [3.582294042,4.679179110],\n",
    "             [2.280362439,2.866990263],\n",
    "             [7.423436942,4.696522875],\n",
    "             [5.745051997,3.533989803],\n",
    "             [9.172168622,2.511101045],\n",
    "             [7.792783481,3.424088941],\n",
    "             [7.939820817,0.791637231]\n",
    "            ]\n",
    "# 所属类别\n",
    "raw_data_y = [0,0,0,0,0,1,1,1,1,1] # 良性肿瘤，恶性肿瘤\n",
    "# 转成numpy\n",
    "X = np.array(raw_data_x) #矩阵\n",
    "y = np.array(raw_data_y) #向量"
   ]
  },
  {
   "cell_type": "code",
   "execution_count": 2,
   "id": "3290cfde",
   "metadata": {},
   "outputs": [
    {
     "data": {
      "text/plain": [
       "array([1])"
      ]
     },
     "execution_count": 2,
     "metadata": {},
     "output_type": "execute_result"
    }
   ],
   "source": [
    "from myML.n_neighbor import KNeighborClassifier\n",
    "knn_clf=KNeighborClassifier(n_neighbors=6)\n",
    "knn_clf.fit(X,y)\n",
    "knn_clf.predict(np.array([[8.7,3.6]]))"
   ]
  },
  {
   "cell_type": "code",
   "execution_count": 3,
   "id": "b65f2cce",
   "metadata": {},
   "outputs": [
    {
     "name": "stdout",
     "output_type": "stream",
     "text": [
      "KNeighborClassifier\n"
     ]
    }
   ],
   "source": [
    "print(knn_clf)"
   ]
  },
  {
   "cell_type": "code",
   "execution_count": 4,
   "id": "1abdd5a9",
   "metadata": {},
   "outputs": [
    {
     "data": {
      "text/plain": [
       "KNeighborClassifier"
      ]
     },
     "execution_count": 4,
     "metadata": {},
     "output_type": "execute_result"
    }
   ],
   "source": [
    "knn_clf.fit(X,y)"
   ]
  },
  {
   "cell_type": "code",
   "execution_count": null,
   "id": "8d7e308e",
   "metadata": {},
   "outputs": [],
   "source": []
  }
 ],
 "metadata": {
  "kernelspec": {
   "display_name": "Python 3 (ipykernel)",
   "language": "python",
   "name": "python3"
  },
  "language_info": {
   "codemirror_mode": {
    "name": "ipython",
    "version": 3
   },
   "file_extension": ".py",
   "mimetype": "text/x-python",
   "name": "python",
   "nbconvert_exporter": "python",
   "pygments_lexer": "ipython3",
   "version": "3.9.12"
  }
 },
 "nbformat": 4,
 "nbformat_minor": 5
}
