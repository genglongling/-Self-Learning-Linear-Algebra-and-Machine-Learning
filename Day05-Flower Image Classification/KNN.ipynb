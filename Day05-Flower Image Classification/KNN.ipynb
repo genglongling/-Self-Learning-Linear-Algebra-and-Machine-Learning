{
 "cells": [
  {
   "cell_type": "code",
   "execution_count": 57,
   "id": "00274940",
   "metadata": {},
   "outputs": [],
   "source": [
    "import numpy as np\n",
    "import matplotlib.pyplot as plt\n",
    "# 特征\n",
    "raw_data_x= [[3.393533211,2.331273381],\n",
    "             [2.110073483,1.781539638],\n",
    "             [1.343808831,3.368360954],\n",
    "             [3.582294042,4.679179110],\n",
    "             [2.280362439,2.866990263],\n",
    "             [7.423436942,4.696522875],\n",
    "             [5.745051997,3.533989803],\n",
    "             [9.172168622,2.511101045],\n",
    "             [7.792783481,3.424088941],\n",
    "             [7.939820817,0.791637231]\n",
    "            ]\n",
    "# 所属类别\n",
    "raw_data_y = [0,0,0,0,0,1,1,1,1,1] # 良性肿瘤，恶性肿瘤"
   ]
  },
  {
   "cell_type": "code",
   "execution_count": 58,
   "id": "d97155a1",
   "metadata": {},
   "outputs": [],
   "source": [
    "# 转成numpy\n",
    "X = np.array(raw_data_x) #矩阵\n",
    "y = np.array(raw_data_y) #向量"
   ]
  },
  {
   "cell_type": "code",
   "execution_count": 9,
   "id": "4abd62f9",
   "metadata": {},
   "outputs": [
    {
     "data": {
      "text/plain": [
       "array([[3.39353321, 2.33127338],\n",
       "       [2.11007348, 1.78153964],\n",
       "       [1.34380883, 3.36836095],\n",
       "       [3.58229404, 4.67917911],\n",
       "       [2.28036244, 2.86699026],\n",
       "       [7.42343694, 4.69652288],\n",
       "       [5.745052  , 3.5339898 ],\n",
       "       [9.17216862, 2.51110105],\n",
       "       [7.79278348, 3.42408894],\n",
       "       [7.93982082, 0.79163723]])"
      ]
     },
     "execution_count": 9,
     "metadata": {},
     "output_type": "execute_result"
    }
   ],
   "source": [
    "X"
   ]
  },
  {
   "cell_type": "code",
   "execution_count": 10,
   "id": "0208cd0f",
   "metadata": {},
   "outputs": [
    {
     "data": {
      "text/plain": [
       "array([0, 0, 0, 0, 0, 1, 1, 1, 1, 1])"
      ]
     },
     "execution_count": 10,
     "metadata": {},
     "output_type": "execute_result"
    }
   ],
   "source": [
    "y"
   ]
  },
  {
   "cell_type": "code",
   "execution_count": 11,
   "id": "8f5a6615",
   "metadata": {},
   "outputs": [
    {
     "data": {
      "image/png": "[encoded data removed]",
      "text/plain": [
       "<Figure size 432x288 with 1 Axes>"
      ]
     },
     "metadata": {
      "needs_background": "light"
     },
     "output_type": "display_data"
    }
   ],
   "source": [
    "#可视化数据\n",
    "plt.scatter(X[:,0],X[:,1])\n",
    "plt.show()"
   ]
  },
  {
   "cell_type": "code",
   "execution_count": 15,
   "id": "8ad1ed4f",
   "metadata": {},
   "outputs": [],
   "source": [
    "X_benigned=[]\n",
    "X_malicious=[]"
   ]
  },
  {
   "cell_type": "code",
   "execution_count": 16,
   "id": "763bc441",
   "metadata": {},
   "outputs": [],
   "source": [
    "for i in range(10):\n",
    "    if raw_data_y[i]==0:\n",
    "        X_benigned.append(raw_data_x[i])\n",
    "    else:\n",
    "        X_malicious.append(raw_data_x[i])"
   ]
  },
  {
   "cell_type": "code",
   "execution_count": 21,
   "id": "eb4de19c",
   "metadata": {},
   "outputs": [
    {
     "data": {
      "text/plain": [
       "array([[3.39353321, 2.33127338],\n",
       "       [2.11007348, 1.78153964],\n",
       "       [1.34380883, 3.36836095],\n",
       "       [3.58229404, 4.67917911],\n",
       "       [2.28036244, 2.86699026]])"
      ]
     },
     "execution_count": 21,
     "metadata": {},
     "output_type": "execute_result"
    }
   ],
   "source": [
    "X_benigned=np.array(X_benigned)\n",
    "X_benigned"
   ]
  },
  {
   "cell_type": "code",
   "execution_count": 22,
   "id": "01c175ca",
   "metadata": {},
   "outputs": [
    {
     "data": {
      "text/plain": [
       "array([[7.42343694, 4.69652288],\n",
       "       [5.745052  , 3.5339898 ],\n",
       "       [9.17216862, 2.51110105],\n",
       "       [7.79278348, 3.42408894],\n",
       "       [7.93982082, 0.79163723]])"
      ]
     },
     "execution_count": 22,
     "metadata": {},
     "output_type": "execute_result"
    }
   ],
   "source": [
    "X_malicious=np.array(X_malicious)\n",
    "X_malicious"
   ]
  },
  {
   "cell_type": "code",
   "execution_count": 23,
   "id": "3d420370",
   "metadata": {},
   "outputs": [
    {
     "data": {
      "image/png": "[encoded data removed]",
      "text/plain": [
       "<Figure size 432x288 with 1 Axes>"
      ]
     },
     "metadata": {
      "needs_background": "light"
     },
     "output_type": "display_data"
    }
   ],
   "source": [
    "plt.scatter(X_benigned[:,0],X_benigned[:,1])\n",
    "plt.show()"
   ]
  },
  {
   "cell_type": "code",
   "execution_count": 24,
   "id": "68a25e1e",
   "metadata": {},
   "outputs": [
    {
     "data": {
      "image/png": "[encoded data removed]",
      "text/plain": [
       "<Figure size 432x288 with 1 Axes>"
      ]
     },
     "metadata": {
      "needs_background": "light"
     },
     "output_type": "display_data"
    }
   ],
   "source": [
    "plt.scatter(X_malicious[:,0],X_malicious[:,1])\n",
    "plt.show()"
   ]
  },
  {
   "cell_type": "code",
   "execution_count": 25,
   "id": "2ad2151b",
   "metadata": {},
   "outputs": [
    {
     "data": {
      "text/plain": [
       "array([34, 84,  6, 49, 59, 92, 56, 45, 46, 97])"
      ]
     },
     "execution_count": 25,
     "metadata": {},
     "output_type": "execute_result"
    }
   ],
   "source": [
    "# 分离0,1的数据\n",
    "data = np.random.randint(1,100,10)\n",
    "data"
   ]
  },
  {
   "cell_type": "code",
   "execution_count": 26,
   "id": "d51bc0fa",
   "metadata": {},
   "outputs": [
    {
     "data": {
      "text/plain": [
       "array([ 6, 34, 45, 46, 49, 56, 59, 84, 92, 97])"
      ]
     },
     "execution_count": 26,
     "metadata": {},
     "output_type": "execute_result"
    }
   ],
   "source": [
    "np.sort(data)"
   ]
  },
  {
   "cell_type": "code",
   "execution_count": 27,
   "id": "7d1d37ff",
   "metadata": {},
   "outputs": [
    {
     "data": {
      "text/plain": [
       "array([34, 84,  6, 49, 59, 92, 56, 45, 46, 97])"
      ]
     },
     "execution_count": 27,
     "metadata": {},
     "output_type": "execute_result"
    }
   ],
   "source": [
    "data"
   ]
  },
  {
   "cell_type": "code",
   "execution_count": 28,
   "id": "8caf2ab7",
   "metadata": {},
   "outputs": [
    {
     "data": {
      "text/plain": [
       "array([2, 0, 7, 8, 3, 6, 4, 1, 5, 9])"
      ]
     },
     "execution_count": 28,
     "metadata": {},
     "output_type": "execute_result"
    }
   ],
   "source": [
    "# return index\n",
    "np.argsort(data)"
   ]
  },
  {
   "cell_type": "code",
   "execution_count": 30,
   "id": "046e4f6e",
   "metadata": {},
   "outputs": [
    {
     "data": {
      "text/plain": [
       "array([[96263, 33388, 86437,  5852, 21058, 54952],\n",
       "       [43335, 53029, 52697,   694, 75656, 61329],\n",
       "       [77996, 84741,  1247, 37194, 77837, 12380],\n",
       "       [71004,  6275, 60458, 18622, 46417, 58621],\n",
       "       [49182, 93580, 64794, 71495, 61385, 72090]])"
      ]
     },
     "execution_count": 30,
     "metadata": {},
     "output_type": "execute_result"
    }
   ],
   "source": [
    "data = np.random.randint(1,100000,(5,6))\n",
    "data"
   ]
  },
  {
   "cell_type": "code",
   "execution_count": 34,
   "id": "b4692de8",
   "metadata": {},
   "outputs": [
    {
     "data": {
      "text/plain": [
       "array(['eric', 'bob', 'ana', 'eric', 'bob'], dtype='<U4')"
      ]
     },
     "execution_count": 34,
     "metadata": {},
     "output_type": "execute_result"
    }
   ],
   "source": [
    "labels = np.array(['eric','bob','ana','eric','bob'])\n",
    "labels"
   ]
  },
  {
   "cell_type": "code",
   "execution_count": 35,
   "id": "c52ce79e",
   "metadata": {},
   "outputs": [
    {
     "data": {
      "text/plain": [
       "array([ True, False, False,  True, False])"
      ]
     },
     "execution_count": 35,
     "metadata": {},
     "output_type": "execute_result"
    }
   ],
   "source": [
    "labels == 'eric' #布尔索引列表"
   ]
  },
  {
   "cell_type": "code",
   "execution_count": 36,
   "id": "c23067a6",
   "metadata": {},
   "outputs": [
    {
     "data": {
      "text/plain": [
       "array([[96263, 33388, 86437,  5852, 21058, 54952],\n",
       "       [71004,  6275, 60458, 18622, 46417, 58621]])"
      ]
     },
     "execution_count": 36,
     "metadata": {},
     "output_type": "execute_result"
    }
   ],
   "source": [
    "data[[ True, False, False,  True, False]] #用法"
   ]
  },
  {
   "cell_type": "code",
   "execution_count": 41,
   "id": "772f8adc",
   "metadata": {},
   "outputs": [
    {
     "data": {
      "image/png": "[encoded data removed]",
      "text/plain": [
       "<Figure size 432x288 with 1 Axes>"
      ]
     },
     "metadata": {
      "needs_background": "light"
     },
     "output_type": "display_data"
    }
   ],
   "source": [
    "plt.scatter(X[:,0][y==1],X[:,1][y==1],color='r') #用法1\n",
    "plt.scatter(X[:,0][y==0],X[:,1][y==0],color='g')\n",
    "plt.show()"
   ]
  },
  {
   "cell_type": "code",
   "execution_count": 42,
   "id": "faa9afd1",
   "metadata": {},
   "outputs": [
    {
     "data": {
      "image/png": "[encoded data removed]",
      "text/plain": [
       "<Figure size 432x288 with 1 Axes>"
      ]
     },
     "metadata": {
      "needs_background": "light"
     },
     "output_type": "display_data"
    }
   ],
   "source": [
    "plt.scatter(X[y==1,0],X[y==1,1],color='r') #用法2\n",
    "plt.scatter(X[y==0,0],X[y==0,1],color='g')\n",
    "plt.show()"
   ]
  },
  {
   "cell_type": "code",
   "execution_count": 44,
   "id": "376c7456",
   "metadata": {},
   "outputs": [],
   "source": [
    "x_new = np.array([8.7, 3.6]) # 新来的点"
   ]
  },
  {
   "cell_type": "code",
   "execution_count": 45,
   "id": "6411063f",
   "metadata": {},
   "outputs": [
    {
     "data": {
      "image/png": "[encoded data removed]",
      "text/plain": [
       "<Figure size 432x288 with 1 Axes>"
      ]
     },
     "metadata": {
      "needs_background": "light"
     },
     "output_type": "display_data"
    }
   ],
   "source": [
    "plt.scatter(X[y==1,0],X[y==1,1],color='r') #用法2\n",
    "plt.scatter(X[y==0,0],X[y==0,1],color='g')\n",
    "plt.scatter(x_new[0],x_new[1], color='b')\n",
    "plt.show()"
   ]
  },
  {
   "cell_type": "code",
   "execution_count": 63,
   "id": "cb5bfa22",
   "metadata": {},
   "outputs": [
    {
     "data": {
      "text/plain": [
       "[5.456029418589964,\n",
       " 6.836221879636801,\n",
       " 7.3598373054372175,\n",
       " 5.230252558338754,\n",
       " 6.461350453979325,\n",
       " 1.6828474846071388,\n",
       " 2.9556852076196583,\n",
       " 1.186863152095249,\n",
       " 0.9241139069535627,\n",
       " 2.909428437437823]"
      ]
     },
     "execution_count": 63,
     "metadata": {},
     "output_type": "execute_result"
    }
   ],
   "source": [
    "# knn 初始化\n",
    "# knn 过程\n",
    "# 方法一\n",
    "k=6\n",
    "distances=[]\n",
    "for i in range(10):\n",
    "    x_point=raw_data_x[i][0]\n",
    "    y_point=raw_data_x[i][1]\n",
    "    distances.append(((x_point-x_new[0])**2+(y_point-x_new[1])**2)**0.5)\n",
    "distances"
   ]
  },
  {
   "cell_type": "code",
   "execution_count": 59,
   "id": "4398e5e8",
   "metadata": {},
   "outputs": [
    {
     "data": {
      "text/plain": [
       "array([[3.39353321, 2.33127338],\n",
       "       [2.11007348, 1.78153964],\n",
       "       [1.34380883, 3.36836095],\n",
       "       [3.58229404, 4.67917911],\n",
       "       [2.28036244, 2.86699026],\n",
       "       [7.42343694, 4.69652288],\n",
       "       [5.745052  , 3.5339898 ],\n",
       "       [9.17216862, 2.51110105],\n",
       "       [7.79278348, 3.42408894],\n",
       "       [7.93982082, 0.79163723]])"
      ]
     },
     "execution_count": 59,
     "metadata": {},
     "output_type": "execute_result"
    }
   ],
   "source": [
    "\n",
    "X"
   ]
  },
  {
   "cell_type": "code",
   "execution_count": 60,
   "id": "7d0708cf",
   "metadata": {},
   "outputs": [
    {
     "data": {
      "text/plain": [
       "array([0, 0, 0, 0, 0, 1, 1, 1, 1, 1])"
      ]
     },
     "execution_count": 60,
     "metadata": {},
     "output_type": "execute_result"
    }
   ],
   "source": [
    "y"
   ]
  },
  {
   "cell_type": "code",
   "execution_count": 61,
   "id": "9983df92",
   "metadata": {},
   "outputs": [
    {
     "data": {
      "text/plain": [
       "[5.456029418589964,\n",
       " 6.836221879636801,\n",
       " 7.3598373054372175,\n",
       " 5.230252558338754,\n",
       " 6.461350453979325,\n",
       " 1.6828474846071388,\n",
       " 2.9556852076196583,\n",
       " 1.186863152095249,\n",
       " 0.9241139069535627,\n",
       " 2.909428437437823]"
      ]
     },
     "execution_count": 61,
     "metadata": {},
     "output_type": "execute_result"
    }
   ],
   "source": [
    "distances=[]\n",
    "for x in X:# numpy 向量化运算 方法二\n",
    "    d = np.sum((x-x_new)**2)**0.5\n",
    "    distances.append(d)\n",
    "distances"
   ]
  },
  {
   "cell_type": "code",
   "execution_count": 64,
   "id": "372cdb50",
   "metadata": {},
   "outputs": [
    {
     "data": {
      "text/plain": [
       "[5.456029418589964,\n",
       " 6.836221879636801,\n",
       " 7.3598373054372175,\n",
       " 5.230252558338754,\n",
       " 6.461350453979325,\n",
       " 1.6828474846071388,\n",
       " 2.9556852076196583,\n",
       " 1.186863152095249,\n",
       " 0.9241139069535627,\n",
       " 2.909428437437823]"
      ]
     },
     "execution_count": 64,
     "metadata": {},
     "output_type": "execute_result"
    }
   ],
   "source": [
    "#方法三\n",
    "distances = [np.sum((x-x_new)**2)**0.5 for x in X]\n",
    "distances"
   ]
  },
  {
   "cell_type": "code",
   "execution_count": 80,
   "id": "52ab8612",
   "metadata": {},
   "outputs": [
    {
     "data": {
      "text/plain": [
       "[1, 1, 1, 1, 1, 0]"
      ]
     },
     "execution_count": 80,
     "metadata": {},
     "output_type": "execute_result"
    }
   ],
   "source": [
    "votes=[y[i] for i in np.argsort(distances)[:k]]\n",
    "votes"
   ]
  },
  {
   "cell_type": "code",
   "execution_count": 85,
   "id": "9ba1c2ec",
   "metadata": {},
   "outputs": [
    {
     "data": {
      "text/plain": [
       "1"
      ]
     },
     "execution_count": 85,
     "metadata": {},
     "output_type": "execute_result"
    }
   ],
   "source": [
    "from collections import Counter\n",
    "y_predict = Counter(votes).most_common(1)[0][0] # 第1多"
   ]
  },
  {
   "cell_type": "code",
   "execution_count": 92,
   "id": "66f3506a",
   "metadata": {},
   "outputs": [
    {
     "data": {
      "text/plain": [
       "array([1])"
      ]
     },
     "execution_count": 92,
     "metadata": {},
     "output_type": "execute_result"
    }
   ],
   "source": [
    "# sklearn\n",
    "from sklearn.neighbors import KNeighborsClassifier\n",
    "knn_clf = KNeighborsClassifier(n_neighbors=6)\n",
    "knn_clf.fit(X,y)\n",
    "knn_clf.predict([x_new])#矩阵，批量预测\n",
    "#shift enter 运行\n",
    "#option enter 插入空白行"
   ]
  },
  {
   "cell_type": "code",
   "execution_count": 93,
   "id": "d61dcaff",
   "metadata": {},
   "outputs": [
    {
     "data": {
      "text/plain": [
       "array([1])"
      ]
     },
     "execution_count": 93,
     "metadata": {},
     "output_type": "execute_result"
    }
   ],
   "source": [
    "# 方法二\n",
    "knn_clf.predict(x_new.reshape(1,-1)) #一个样本(1,-1) #一个特征（-1,1）"
   ]
  },
  {
   "cell_type": "code",
   "execution_count": null,
   "id": "88e569ea",
   "metadata": {},
   "outputs": [],
   "source": []
  },
  {
   "cell_type": "code",
   "execution_count": null,
   "id": "3b627309",
   "metadata": {},
   "outputs": [],
   "source": []
  }
 ],
 "metadata": {
  "kernelspec": {
   "display_name": "Python 3 (ipykernel)",
   "language": "python",
   "name": "python3"
  },
  "language_info": {
   "codemirror_mode": {
    "name": "ipython",
    "version": 3
   },
   "file_extension": ".py",
   "mimetype": "text/x-python",
   "name": "python",
   "nbconvert_exporter": "python",
   "pygments_lexer": "ipython3",
   "version": "3.9.12"
  }
 },
 "nbformat": 4,
 "nbformat_minor": 5
}
