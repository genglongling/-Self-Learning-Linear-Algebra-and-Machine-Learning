{
 "cells": [
  {
   "cell_type": "code",
   "execution_count": 1,
   "metadata": {},
   "outputs": [],
   "source": [
    "#多元线性回归\n",
    "from myML import linear_model\n",
    "import numpy as np\n",
    "from sklearn import datasets\n",
    "from matplotlib import pyplot as plt"
   ]
  },
  {
   "cell_type": "code",
   "execution_count": 2,
   "metadata": {},
   "outputs": [],
   "source": [
    "#载入数据\n",
    "boston = datasets.load_boston()\n",
    "X = boston.data\n",
    "y = boston.target"
   ]
  },
  {
   "cell_type": "code",
   "execution_count": null,
   "metadata": {},
   "outputs": [],
   "source": [
    "#去除异常数据\n",
    "X = X[y<50]\n",
    "y = y[y<50]"
   ]
  },
  {
   "cell_type": "code",
   "execution_count": 3,
   "metadata": {},
   "outputs": [],
   "source": [
    "# 数据划分\n",
    "from sklearn.model_selection import train_test_split\n",
    "X_train, X_test, y_train, y_test = train_test_split(X, y, random_state=666) #制定了随机种子"
   ]
  },
  {
   "cell_type": "code",
   "execution_count": 4,
   "metadata": {},
   "outputs": [
    {
     "data": {
      "text/plain": [
       "LinearRegression"
      ]
     },
     "execution_count": 4,
     "metadata": {},
     "output_type": "execute_result"
    }
   ],
   "source": [
    "# 模型计算theta\n",
    "lr_model = linear_model.LinearRegression()\n",
    "lr_model.fit_normal(X_train,y_train)"
   ]
  },
  {
   "cell_type": "code",
   "execution_count": 5,
   "metadata": {},
   "outputs": [
    {
     "data": {
      "text/plain": [
       "array([27.2239718 , 23.3689737 , 26.81985293, 34.80632544, 23.01697468,\n",
       "       21.33157982, 15.74046386, 23.60192917, 24.78319069, 19.18708403,\n",
       "        4.09143532, 25.00620974, 20.63270341, 18.71318475, 24.31503737,\n",
       "       26.81791256, 27.71654449, 13.44787839, 18.69122985, 28.19289697,\n",
       "       30.50914244, 13.70301063,  8.4489662 , 35.30751667, 25.5393591 ,\n",
       "       17.18116246, 20.10334989, 13.17832626, 34.31863448, 23.8141639 ,\n",
       "       39.78708111,  8.23606077, 24.60156062, 17.99850115, 22.99169231,\n",
       "       19.95804662, 35.31229039, 35.73767827, 21.3991284 , 13.39302187,\n",
       "       23.84196462, 22.63231669, 27.81413546, 18.36677535, 28.15856888,\n",
       "       11.4463032 , 27.39648632, 32.75195378, 29.60259678, 25.06147307,\n",
       "       27.49354012, 33.17150944, 26.51830133, 23.91457718, 27.8802328 ,\n",
       "       19.84283637, 14.27302494, 20.32010996, 20.0410942 , 13.97958232,\n",
       "       20.98122849, 25.89156359, 30.03067305, 18.18390621, 12.03350882,\n",
       "       11.67893415, 26.75748207, 22.35217266, 23.04252613, 25.79562185,\n",
       "       10.58051429, 33.69404935, 17.7802511 , 17.39494109, 39.51255189,\n",
       "       14.9196089 , 18.53243182, 24.82309959, 19.901138  , 31.70173939,\n",
       "       32.95786003, 23.87162753, 10.03341682, 31.49836372, 30.56718405,\n",
       "       23.15847935, 22.07087572, 13.44892464, 18.13574896, 25.26362858,\n",
       "       19.82374276, 36.58864438, 23.88983796, 32.95419954, 22.0684366 ,\n",
       "       17.29557317, 26.65934769, 27.5922574 , 13.02234679,  0.49747711,\n",
       "       19.8154439 , 13.97309445, 27.13507393, 13.08252992, 16.94281424,\n",
       "       22.56665789, 15.15277828, 25.52542783, 22.80564994, 23.56254887,\n",
       "       36.20032177, 22.34581523, 16.14564765, 19.2924399 , 20.07770718,\n",
       "       24.59516562, 14.1697445 , 14.37896719, 36.02540878, 18.81767214,\n",
       "       19.82391195, 25.14649285, 21.19539711, 10.79798137,  9.03813716,\n",
       "       34.09475108, 14.21598195])"
      ]
     },
     "execution_count": 5,
     "metadata": {},
     "output_type": "execute_result"
    }
   ],
   "source": [
    "# 预测,计算Xb*theta\n",
    "y_pred = lr_model.predict(X_test)\n",
    "y_pred"
   ]
  },
  {
   "cell_type": "code",
   "execution_count": null,
   "metadata": {},
   "outputs": [],
   "source": []
  }
 ],
 "metadata": {
  "kernelspec": {
   "display_name": "Python 3",
   "language": "python",
   "name": "python3"
  },
  "language_info": {
   "codemirror_mode": {
    "name": "ipython",
    "version": 3
   },
   "file_extension": ".py",
   "mimetype": "text/x-python",
   "name": "python",
   "nbconvert_exporter": "python",
   "pygments_lexer": "ipython3",
   "version": "3.8.5"
  }
 },
 "nbformat": 4,
 "nbformat_minor": 4
}