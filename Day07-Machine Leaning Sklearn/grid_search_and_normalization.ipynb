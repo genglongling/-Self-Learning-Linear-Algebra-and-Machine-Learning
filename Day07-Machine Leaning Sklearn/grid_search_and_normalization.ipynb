{
 "cells": [
  {
   "cell_type": "code",
   "execution_count": 2,
   "metadata": {},
   "outputs": [],
   "source": [
    "from sklearn import datasets\n",
    "from sklearn.neighbors import KNeighborsClassifier\n",
    "import numpy as np\n",
    "from sklearn.model_selection import train_test_split"
   ]
  },
  {
   "cell_type": "code",
   "execution_count": 3,
   "metadata": {},
   "outputs": [
    {
     "data": {
      "text/plain": [
       "((1347, 64), (450, 64), (1347,), (450,))"
      ]
     },
     "execution_count": 3,
     "metadata": {},
     "output_type": "execute_result"
    }
   ],
   "source": [
    "#加载数据集\n",
    "digits = datasets.load_digits()\n",
    "X=digits.data\n",
    "y=digits.target\n",
    "#划分数据集\n",
    "X_train, X_test, y_train, y_test = train_test_split(X, y, random_state=666)\n",
    "(X_train.shape, X_test.shape, y_train.shape, y_test.shape)"
   ]
  },
  {
   "cell_type": "code",
   "execution_count": 4,
   "metadata": {},
   "outputs": [],
   "source": [
    "param_grid =[\n",
    "    {\n",
    "        'weights':['uniform'],\n",
    "        'n_neighbors': [i for i in range(1,11)]\n",
    "    },\n",
    "    {\n",
    "        'weights':['distance'],\n",
    "        'n_neighbors': [i for i in range(1,11)],\n",
    "        'p': [i for i in range(1,6)]\n",
    "    }\n",
    "]"
   ]
  },
  {
   "cell_type": "code",
   "execution_count": 5,
   "metadata": {},
   "outputs": [],
   "source": [
    "#交叉验证\n",
    "#网格搜索\n",
    "from sklearn.model_selection import GridSearchCV"
   ]
  },
  {
   "cell_type": "code",
   "execution_count": 8,
   "metadata": {},
   "outputs": [],
   "source": [
    "knn_clf = KNeighborsClassifier()\n",
    "#GridSearchCV?\n",
    "#得到最好的参数\n",
    "gridSearchCV = GridSearchCV(estimator=knn_clf, param_grid=param_grid)"
   ]
  },
  {
   "cell_type": "code",
   "execution_count": 9,
   "metadata": {},
   "outputs": [
    {
     "name": "stdout",
     "output_type": "stream",
     "text": [
      "CPU times: user 46.5 s, sys: 339 ms, total: 46.8 s\n",
      "Wall time: 47.7 s\n"
     ]
    },
    {
     "data": {
      "text/plain": [
       "GridSearchCV(estimator=KNeighborsClassifier(),\n",
       "             param_grid=[{'n_neighbors': [1, 2, 3, 4, 5, 6, 7, 8, 9, 10],\n",
       "                          'weights': ['uniform']},\n",
       "                         {'n_neighbors': [1, 2, 3, 4, 5, 6, 7, 8, 9, 10],\n",
       "                          'p': [1, 2, 3, 4, 5], 'weights': ['distance']}])"
      ]
     },
     "execution_count": 9,
     "metadata": {},
     "output_type": "execute_result"
    }
   ],
   "source": [
    "%%time\n",
    "gridSearchCV.fit(X_train, y_train)"
   ]
  },
  {
   "cell_type": "code",
   "execution_count": 10,
   "metadata": {},
   "outputs": [
    {
     "data": {
      "text/plain": [
       "KNeighborsClassifier(n_neighbors=9, p=3, weights='distance')"
      ]
     },
     "execution_count": 10,
     "metadata": {},
     "output_type": "execute_result"
    }
   ],
   "source": [
    "gridSearchCV.best_estimator_"
   ]
  },
  {
   "cell_type": "code",
   "execution_count": 12,
   "metadata": {},
   "outputs": [
    {
     "data": {
      "text/plain": [
       "{'n_neighbors': 9, 'p': 3, 'weights': 'distance'}"
      ]
     },
     "execution_count": 12,
     "metadata": {},
     "output_type": "execute_result"
    }
   ],
   "source": [
    "gridSearchCV.best_params_"
   ]
  },
  {
   "cell_type": "code",
   "execution_count": null,
   "metadata": {},
   "outputs": [],
   "source": [
    "#数据归一化\n",
    "#one-hot encoding\n",
    "#batch normalization \n",
    "#normalization:转化成0-1之间的比例\n",
    "#standardization: 转化成mean=0, s=1"
   ]
  },
  {
   "cell_type": "code",
   "execution_count": 13,
   "metadata": {},
   "outputs": [
    {
     "data": {
      "text/plain": [
       "array([55, 17, 10, 59, 48, 43, 61, 78, 80,  2, 40, 16, 78, 42, 26, 46, 49,\n",
       "       50, 87, 45, 52, 71, 43, 19, 43, 62, 99, 36, 25, 26, 18, 37,  0, 95,\n",
       "       34, 19, 91, 18,  0, 56, 59, 56, 97, 16, 88, 75, 42, 12, 48, 23, 18,\n",
       "       78, 30, 40, 49,  3, 21, 11, 15, 66, 49, 98, 41, 92, 32, 55, 84,  3,\n",
       "       51, 54,  9, 26,  9, 31, 89, 46, 60, 66, 66, 29, 63, 57, 11, 42, 43,\n",
       "       19, 17, 99, 86, 11, 11, 99, 12, 44, 71, 95, 29, 62, 10,  7])"
      ]
     },
     "execution_count": 13,
     "metadata": {},
     "output_type": "execute_result"
    }
   ],
   "source": [
    "x = np.random.randint(0,100,100)\n",
    "x"
   ]
  },
  {
   "cell_type": "code",
   "execution_count": 14,
   "metadata": {},
   "outputs": [
    {
     "data": {
      "text/plain": [
       "[array([0.55555556, 0.17171717, 0.1010101 , 0.5959596 , 0.48484848,\n",
       "        0.43434343, 0.61616162, 0.78787879, 0.80808081, 0.02020202,\n",
       "        0.4040404 , 0.16161616, 0.78787879, 0.42424242, 0.26262626,\n",
       "        0.46464646, 0.49494949, 0.50505051, 0.87878788, 0.45454545,\n",
       "        0.52525253, 0.71717172, 0.43434343, 0.19191919, 0.43434343,\n",
       "        0.62626263, 1.        , 0.36363636, 0.25252525, 0.26262626,\n",
       "        0.18181818, 0.37373737, 0.        , 0.95959596, 0.34343434,\n",
       "        0.19191919, 0.91919192, 0.18181818, 0.        , 0.56565657,\n",
       "        0.5959596 , 0.56565657, 0.97979798, 0.16161616, 0.88888889,\n",
       "        0.75757576, 0.42424242, 0.12121212, 0.48484848, 0.23232323,\n",
       "        0.18181818, 0.78787879, 0.3030303 , 0.4040404 , 0.49494949,\n",
       "        0.03030303, 0.21212121, 0.11111111, 0.15151515, 0.66666667,\n",
       "        0.49494949, 0.98989899, 0.41414141, 0.92929293, 0.32323232,\n",
       "        0.55555556, 0.84848485, 0.03030303, 0.51515152, 0.54545455,\n",
       "        0.09090909, 0.26262626, 0.09090909, 0.31313131, 0.8989899 ,\n",
       "        0.46464646, 0.60606061, 0.66666667, 0.66666667, 0.29292929,\n",
       "        0.63636364, 0.57575758, 0.11111111, 0.42424242, 0.43434343,\n",
       "        0.19191919, 0.17171717, 1.        , 0.86868687, 0.11111111,\n",
       "        0.11111111, 1.        , 0.12121212, 0.44444444, 0.71717172,\n",
       "        0.95959596, 0.29292929, 0.62626263, 0.1010101 , 0.07070707])]"
      ]
     },
     "execution_count": 14,
     "metadata": {},
     "output_type": "execute_result"
    }
   ],
   "source": [
    "#normalization\n",
    "norm = [(x-np.min(x))/(np.max(x)-np.min(x))]\n",
    "norm"
   ]
  },
  {
   "cell_type": "code",
   "execution_count": 29,
   "metadata": {},
   "outputs": [
    {
     "data": {
      "text/plain": [
       "array([89, 93, 40, 23,  3, 18, 16, 57, 52,  5,  0, 14, 99, 12, 79, 90, 16,\n",
       "       50, 27, 24, 72, 46, 14, 79, 29, 23, 11, 57, 14, 99, 40, 95, 22, 51,\n",
       "       33, 76, 70, 19, 24, 77, 91, 25, 89, 10, 81, 69, 48, 60, 72, 17])"
      ]
     },
     "execution_count": 29,
     "metadata": {},
     "output_type": "execute_result"
    }
   ],
   "source": [
    "X = np.random.randint(0,100,(50,2)) #50X2\n",
    "X[:,0]"
   ]
  },
  {
   "cell_type": "code",
   "execution_count": 30,
   "metadata": {},
   "outputs": [],
   "source": [
    "X = np.array(X, dtype=np.float64) #调整数据的类型int/float"
   ]
  },
  {
   "cell_type": "code",
   "execution_count": 34,
   "metadata": {},
   "outputs": [],
   "source": [
    "X[:,0] = (X[:,0]-np.min(X[:,0]))/(np.max(X[:,0])-np.min(X[:,0]))\n",
    "X[:,1] = (X[:,1]-np.min(X[:,1]))/(np.max(X[:,1])-np.min(X[:,1]))"
   ]
  },
  {
   "cell_type": "code",
   "execution_count": 36,
   "metadata": {},
   "outputs": [
    {
     "data": {
      "text/plain": [
       "array([[0.8989899 , 0.37234043],\n",
       "       [0.93939394, 0.92553191],\n",
       "       [0.4040404 , 0.81914894],\n",
       "       [0.23232323, 0.27659574],\n",
       "       [0.03030303, 0.0212766 ],\n",
       "       [0.18181818, 0.        ],\n",
       "       [0.16161616, 0.68085106],\n",
       "       [0.57575758, 0.06382979],\n",
       "       [0.52525253, 0.18085106],\n",
       "       [0.05050505, 0.23404255],\n",
       "       [0.        , 0.87234043],\n",
       "       [0.14141414, 0.42553191],\n",
       "       [1.        , 0.55319149],\n",
       "       [0.12121212, 0.17021277],\n",
       "       [0.7979798 , 0.67021277],\n",
       "       [0.90909091, 0.22340426],\n",
       "       [0.16161616, 0.18085106],\n",
       "       [0.50505051, 0.42553191],\n",
       "       [0.27272727, 0.74468085],\n",
       "       [0.24242424, 0.07446809],\n",
       "       [0.72727273, 0.25531915],\n",
       "       [0.46464646, 0.92553191],\n",
       "       [0.14141414, 0.73404255],\n",
       "       [0.7979798 , 0.37234043],\n",
       "       [0.29292929, 1.        ],\n",
       "       [0.23232323, 0.13829787],\n",
       "       [0.11111111, 0.36170213],\n",
       "       [0.57575758, 0.0106383 ],\n",
       "       [0.14141414, 0.13829787],\n",
       "       [1.        , 0.30851064],\n",
       "       [0.4040404 , 0.54255319],\n",
       "       [0.95959596, 0.06382979],\n",
       "       [0.22222222, 0.44680851],\n",
       "       [0.51515152, 0.14893617],\n",
       "       [0.33333333, 0.4893617 ],\n",
       "       [0.76767677, 0.46808511],\n",
       "       [0.70707071, 0.77659574],\n",
       "       [0.19191919, 0.34042553],\n",
       "       [0.24242424, 0.72340426],\n",
       "       [0.77777778, 0.9893617 ],\n",
       "       [0.91919192, 0.71276596],\n",
       "       [0.25252525, 0.18085106],\n",
       "       [0.8989899 , 0.25531915],\n",
       "       [0.1010101 , 0.24468085],\n",
       "       [0.81818182, 0.60638298],\n",
       "       [0.6969697 , 0.60638298],\n",
       "       [0.48484848, 0.77659574],\n",
       "       [0.60606061, 0.46808511],\n",
       "       [0.72727273, 0.29787234],\n",
       "       [0.17171717, 0.59574468]])"
      ]
     },
     "execution_count": 36,
     "metadata": {},
     "output_type": "execute_result"
    }
   ],
   "source": [
    "X"
   ]
  },
  {
   "cell_type": "code",
   "execution_count": 37,
   "metadata": {},
   "outputs": [
    {
     "data": {
      "text/plain": [
       "0.4686868686868687"
      ]
     },
     "execution_count": 37,
     "metadata": {},
     "output_type": "execute_result"
    }
   ],
   "source": [
    "np.mean(X[:,0])"
   ]
  },
  {
   "cell_type": "code",
   "execution_count": 38,
   "metadata": {},
   "outputs": [
    {
     "data": {
      "text/plain": [
       "0.30837707232020733"
      ]
     },
     "execution_count": 38,
     "metadata": {},
     "output_type": "execute_result"
    }
   ],
   "source": [
    "np.std(X[:,0])"
   ]
  },
  {
   "cell_type": "code",
   "execution_count": 46,
   "metadata": {},
   "outputs": [
    {
     "name": "stdout",
     "output_type": "stream",
     "text": [
      "47.22\n",
      "44.7\n"
     ]
    }
   ],
   "source": [
    "#standardization\n",
    "X2 = np.random.randint(0,100,(50,2)) #50X2\n",
    "X2 = np.array(X2, dtype=np.float64) #调整数据的类型int/float\n",
    "X2mean_col1 = np.mean(X2[:,0])\n",
    "X2mean_col2 = np.mean(X2[:,1])\n",
    "print(X2mean_col1)\n",
    "print(X2mean_col2)"
   ]
  },
  {
   "cell_type": "code",
   "execution_count": 47,
   "metadata": {},
   "outputs": [
    {
     "name": "stdout",
     "output_type": "stream",
     "text": [
      "28.198787207963395\n",
      "29.057357071832946\n"
     ]
    }
   ],
   "source": [
    "X2std_col1 = np.std(X2[:,0])\n",
    "X2std_col2 = np.std(X2[:,1])\n",
    "print(X2std_col1)\n",
    "print(X2std_col2)"
   ]
  },
  {
   "cell_type": "code",
   "execution_count": 49,
   "metadata": {},
   "outputs": [],
   "source": [
    "X2[:,0]=(X2[:,0]-X2mean_col1)/X2std_col1\n",
    "X2[:,1]=(X2[:,1]-X2mean_col2)/X2std_col2"
   ]
  },
  {
   "cell_type": "code",
   "execution_count": 50,
   "metadata": {},
   "outputs": [
    {
     "data": {
      "text/plain": [
       "array([[ 0.52413602,  0.4921301 ],\n",
       "       [ 0.8787612 , -0.47148128],\n",
       "       [-1.46176499,  0.45771541],\n",
       "       [-1.39083996, -1.33184859],\n",
       "       [-0.61066456, -1.50392205],\n",
       "       [-0.39788945, -0.81562821],\n",
       "       [-0.00780175, -1.33184859],\n",
       "       [ 1.30431141,  0.76744764],\n",
       "       [ 0.80783616,  0.52654479],\n",
       "       [ 1.44616149,  1.76547371],\n",
       "       [-0.82343967, -0.4026519 ],\n",
       "       [-0.43335197, -1.12536044],\n",
       "       [ 1.51708652,  1.49015617],\n",
       "       [ 1.23338638, -0.54031067],\n",
       "       [ 1.51708652,  1.3869121 ],\n",
       "       [ 0.13404832,  0.32005664],\n",
       "       [ 1.55254904,  1.04276517],\n",
       "       [ 0.59506105,  1.42132679],\n",
       "       [-1.49722751, -0.54031067],\n",
       "       [-0.22057686, -0.02409028],\n",
       "       [-0.61066456, -0.81562821],\n",
       "       [ 1.69439911, -1.40067797],\n",
       "       [ 0.16951084,  0.83627702],\n",
       "       [ 0.13404832,  0.0447391 ],\n",
       "       [ 1.44616149, -1.2630192 ],\n",
       "       [ 0.55959853,  0.52654479],\n",
       "       [ 0.16951084,  0.42330071],\n",
       "       [ 1.33977393,  1.83430309],\n",
       "       [-0.96528974, -0.95328697],\n",
       "       [-1.00075226, -1.40067797],\n",
       "       [ 1.09153631,  0.28564195],\n",
       "       [-0.82343967,  1.42132679],\n",
       "       [-0.53973952,  0.66420356],\n",
       "       [ 0.4886735 ,  0.52654479],\n",
       "       [-1.46176499, -1.22860451],\n",
       "       [-0.36242693, -0.47148128],\n",
       "       [-0.71705211,  0.18239787],\n",
       "       [-1.46176499,  0.21681256],\n",
       "       [-1.00075226, -1.15977513],\n",
       "       [-0.14965183,  0.59537418],\n",
       "       [-1.49722751,  1.11159456],\n",
       "       [-1.10713981,  1.14600925],\n",
       "       [-0.57520204,  0.11356848],\n",
       "       [-1.39083996, -1.15977513],\n",
       "       [ 0.31136091,  0.21681256],\n",
       "       [-0.32696442, -1.50392205],\n",
       "       [ 1.69439911, -1.43509267],\n",
       "       [-0.78797715, -1.02211636],\n",
       "       [ 0.73691112,  1.21483863],\n",
       "       [ 0.27589839,  0.87069171]])"
      ]
     },
     "execution_count": 50,
     "metadata": {},
     "output_type": "execute_result"
    }
   ],
   "source": [
    "X2"
   ]
  },
  {
   "cell_type": "code",
   "execution_count": 51,
   "metadata": {},
   "outputs": [
    {
     "name": "stdout",
     "output_type": "stream",
     "text": [
      "2.55351295663786e-17\n",
      "-1.2656542480726783e-16\n",
      "1.0\n",
      "0.9999999999999999\n"
     ]
    }
   ],
   "source": [
    "# mean, std \n",
    "# 0 1\n",
    "print(np.mean(X2[:,0]))\n",
    "print(np.mean(X2[:,1]))\n",
    "print(np.std(X2[:,0]))\n",
    "print(np.std(X2[:,1]))"
   ]
  },
  {
   "cell_type": "code",
   "execution_count": null,
   "metadata": {},
   "outputs": [],
   "source": []
  }
 ],
 "metadata": {
  "kernelspec": {
   "display_name": "Python 3",
   "language": "python",
   "name": "python3"
  },
  "language_info": {
   "codemirror_mode": {
    "name": "ipython",
    "version": 3
   },
   "file_extension": ".py",
   "mimetype": "text/x-python",
   "name": "python",
   "nbconvert_exporter": "python",
   "pygments_lexer": "ipython3",
   "version": "3.8.5"
  }
 },
 "nbformat": 4,
 "nbformat_minor": 4
}
