{
 "cells": [
  {
   "cell_type": "code",
   "execution_count": 1,
   "id": "6523e993",
   "metadata": {},
   "outputs": [
    {
     "name": "stdout",
     "output_type": "stream",
     "text": [
      "hello\n"
     ]
    }
   ],
   "source": [
    "print('hello')"
   ]
  },
  {
   "cell_type": "code",
   "execution_count": 2,
   "id": "5ea40502",
   "metadata": {},
   "outputs": [],
   "source": [
    "#jupyter notebook：支持markdown，交互式，编辑器"
   ]
  },
  {
   "cell_type": "code",
   "execution_count": 3,
   "id": "f1773b01",
   "metadata": {},
   "outputs": [
    {
     "data": {
      "text/plain": [
       "'1.21.5'"
      ]
     },
     "execution_count": 3,
     "metadata": {},
     "output_type": "execute_result"
    }
   ],
   "source": [
    "import numpy as np\n",
    "np.__version__"
   ]
  },
  {
   "cell_type": "code",
   "execution_count": 5,
   "id": "6d08202a",
   "metadata": {},
   "outputs": [
    {
     "data": {
      "text/plain": [
       "'2.9.1'"
      ]
     },
     "execution_count": 5,
     "metadata": {},
     "output_type": "execute_result"
    }
   ],
   "source": [
    "import tensorflow as tf\n",
    "tf.__version__"
   ]
  },
  {
   "cell_type": "code",
   "execution_count": 8,
   "id": "b6d7ab66",
   "metadata": {},
   "outputs": [
    {
     "data": {
      "text/plain": [
       "[[1, 2], [3, 4], [3, 2], [4, 4]]"
      ]
     },
     "execution_count": 8,
     "metadata": {},
     "output_type": "execute_result"
    }
   ],
   "source": [
    "m1 = [[1,2],[3,4]]\n",
    "m2 = [[3,2],[4,4]]\n",
    "m1+m2"
   ]
  },
  {
   "cell_type": "code",
   "execution_count": 9,
   "id": "4629ee2e",
   "metadata": {},
   "outputs": [
    {
     "ename": "TypeError",
     "evalue": "can't multiply sequence by non-int of type 'list'",
     "output_type": "error",
     "traceback": [
      "\u001b[0;31m---------------------------------------------------------------------------\u001b[0m",
      "\u001b[0;31mTypeError\u001b[0m                                 Traceback (most recent call last)",
      "Input \u001b[0;32mIn [9]\u001b[0m, in \u001b[0;36m<cell line: 1>\u001b[0;34m()\u001b[0m\n\u001b[0;32m----> 1\u001b[0m \u001b[43mm1\u001b[49m\u001b[38;5;241;43m*\u001b[39;49m\u001b[43mm2\u001b[49m\n",
      "\u001b[0;31mTypeError\u001b[0m: can't multiply sequence by non-int of type 'list'"
     ]
    }
   ],
   "source": [
    "m1*m2"
   ]
  },
  {
   "cell_type": "code",
   "execution_count": 10,
   "id": "64b7549a",
   "metadata": {},
   "outputs": [
    {
     "data": {
      "text/plain": [
       "array([0, 1, 2, 3, 4])"
      ]
     },
     "execution_count": 10,
     "metadata": {},
     "output_type": "execute_result"
    }
   ],
   "source": [
    "vec1 = np.array([i for i in range(5)])\n",
    "vec1"
   ]
  },
  {
   "cell_type": "code",
   "execution_count": 11,
   "id": "ff3a1c71",
   "metadata": {},
   "outputs": [
    {
     "data": {
      "text/plain": [
       "array([0, 1, 2, 3, 4])"
      ]
     },
     "execution_count": 11,
     "metadata": {},
     "output_type": "execute_result"
    }
   ],
   "source": [
    "vec2 = np.array([i for i in range(5)])\n",
    "vec2"
   ]
  },
  {
   "cell_type": "code",
   "execution_count": 12,
   "id": "3335f42f",
   "metadata": {},
   "outputs": [
    {
     "data": {
      "text/plain": [
       "array([0, 2, 4, 6, 8])"
      ]
     },
     "execution_count": 12,
     "metadata": {},
     "output_type": "execute_result"
    }
   ],
   "source": [
    "vec1+vec2"
   ]
  },
  {
   "cell_type": "code",
   "execution_count": 13,
   "id": "7a47a67f",
   "metadata": {},
   "outputs": [],
   "source": [
    "# 支持矢量运算\n",
    "# 速度快\n",
    "# shift-enter 执行\n",
    "# esc, m -> 切换至markdown\n",
    "# esc, y -> 切换至代码"
   ]
  },
  {
   "cell_type": "code",
   "execution_count": 15,
   "id": "3adbe934",
   "metadata": {},
   "outputs": [
    {
     "name": "stdout",
     "output_type": "stream",
     "text": [
      "342 ms ± 7.59 ms per loop (mean ± std. dev. of 7 runs, 1 loop each)\n"
     ]
    }
   ],
   "source": [
    "# 魔法命令\n",
    "v = [i for i in range(1000000)]\n",
    "%timeit res = [i**2 for i in v]"
   ]
  },
  {
   "cell_type": "code",
   "execution_count": 17,
   "id": "6651618b",
   "metadata": {
    "scrolled": true
   },
   "outputs": [
    {
     "name": "stdout",
     "output_type": "stream",
     "text": [
      "928 µs ± 27.1 µs per loop (mean ± std. dev. of 7 runs, 1,000 loops each)\n"
     ]
    }
   ],
   "source": [
    "nv = np.array([i for i in range(1000000)])\n",
    "%timeit res2 = nv**2\n",
    "# 运行多次取平均值"
   ]
  },
  {
   "cell_type": "code",
   "execution_count": 18,
   "id": "8bea76b6",
   "metadata": {},
   "outputs": [],
   "source": [
    "# 为什么numpy快？-> 使用C语言编numpy的库"
   ]
  },
  {
   "cell_type": "code",
   "execution_count": null,
   "id": "2b203fdd",
   "metadata": {},
   "outputs": [],
   "source": []
  }
 ],
 "metadata": {
  "kernelspec": {
   "display_name": "Python 3 (ipykernel)",
   "language": "python",
   "name": "python3"
  },
  "language_info": {
   "codemirror_mode": {
    "name": "ipython",
    "version": 3
   },
   "file_extension": ".py",
   "mimetype": "text/x-python",
   "name": "python",
   "nbconvert_exporter": "python",
   "pygments_lexer": "ipython3",
   "version": "3.9.12"
  }
 },
 "nbformat": 4,
 "nbformat_minor": 5
}
